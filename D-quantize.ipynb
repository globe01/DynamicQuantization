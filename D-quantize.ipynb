{
 "cells": [
  {
   "cell_type": "code",
   "execution_count": 1,
   "metadata": {},
   "outputs": [],
   "source": [
    "import matplotlib.pyplot as plt\n",
    "from matplotlib.animation import FuncAnimation\n",
    "import time\n",
    "import torch\n",
    "\n",
    "from quantization_utils import (\n",
    "    n1, n2, b1, b2, half_range_b2, half_range, generate_data, interval_based_quantize, interval_based_quantize_dequantize,\n",
    "    interval_based_quantize_eachprint, interval_based_quantize_map, \n",
    "    dynamic_quantize_level_reduce, dynamic_quantize_level_reduce_dequantize, map_to_target_range\n",
    ")\n",
    "\n",
    "from distribution import (\n",
    "    generate_single_peak_data, generate_double_peak_data,\n",
    "    generate_uniform_data, generate_exponential_data,\n",
    "    generate_multi_peak_data, generate_triangular_data,\n",
    "    generate_poisson_data, generate_extreme_values_data,\n",
    "    generate_gaussian_with_uniform_noise\n",
    ")"
   ]
  },
  {
   "cell_type": "code",
   "execution_count": 2,
   "metadata": {},
   "outputs": [],
   "source": [
    "# def dynamic_quantize_level_reduce(Q, D, num_levels):\n",
    "#     unique_levels = torch.unique(Q)  # 提取 Q 中的唯一值\n",
    "#     unique_levels.sort()  # 排序\n",
    "#     iteration = 0  # 初始化循环计数器\n",
    "#     hist_data = []  # 用于保存每一步的直方图数据\n",
    "\n",
    "#     while len(unique_levels) > num_levels:\n",
    "#         iteration += 1  # 循环次数加一\n",
    "#         total_errors = {}  # 用于保存去除每个 level 后的误差总和\n",
    "\n",
    "#         # 遍历每个 level，计算去掉该 level 后的误差总和\n",
    "#         for level in unique_levels:\n",
    "#             # 创建一个副本，在副本中移除当前级别的元素\n",
    "#             Q_copy = Q.clone()\n",
    "\n",
    "#             # 获取当前级别在 unique_levels 中的索引位置\n",
    "#             level_idx = torch.where(unique_levels == level)[0].item()\n",
    "\n",
    "#             # 根据索引位置将当前级别的值重新分配给相邻的级别\n",
    "#             if level_idx == 0:\n",
    "#                 # 如果是第一个量化级别，重新分配到下一个级别\n",
    "#                 Q_copy[Q == level] = unique_levels[1]\n",
    "#             elif level_idx == len(unique_levels) - 1:\n",
    "#                 # 如果是最后一个量化级别，重新分配到上一个级别\n",
    "#                 Q_copy[Q == level] = unique_levels[-2]\n",
    "#             else:\n",
    "#                 # 否则，分配到相邻的两个级别，根据原始数据 D 的距离进行分配\n",
    "#                 less_level = unique_levels[level_idx - 1].item()\n",
    "#                 more_level = unique_levels[level_idx + 1].item()\n",
    "#                 Q_copy[(Q == level) & (D <= level)] = less_level\n",
    "#                 Q_copy[(Q == level) & (D > level)] = more_level\n",
    "\n",
    "#             # 计算去除当前级别后的误差总和\n",
    "#             E_copy = (Q_copy - D) ** 2\n",
    "#             total_errors[level.item()] = E_copy.sum().item()\n",
    "\n",
    "#         # 找到移除后误差总和最小的量化级别\n",
    "#         level_to_remove = min(total_errors, key=total_errors.get)\n",
    "#         print(f\"Iteration {iteration}: Removing level {level_to_remove} with total error {total_errors[level_to_remove]}\")\n",
    "\n",
    "#         # 移除误差最小的 level 并重新分配 Q 中对应的元素\n",
    "#         level_idx_to_remove = torch.where(unique_levels == level_to_remove)[0].item()\n",
    "\n",
    "#         if level_idx_to_remove == 0:\n",
    "#             Q[Q == level_to_remove] = unique_levels[1]\n",
    "#         elif level_idx_to_remove == len(unique_levels) - 1:\n",
    "#             Q[Q == level_to_remove] = unique_levels[-2]\n",
    "#         else:\n",
    "#             less_level = unique_levels[level_idx_to_remove - 1].item()\n",
    "#             more_level = unique_levels[level_idx_to_remove + 1].item()\n",
    "#             Q[(Q == level_to_remove) & (D <= level_to_remove)] = less_level\n",
    "#             Q[(Q == level_to_remove) & (D > level_to_remove)] = more_level\n",
    "\n",
    "\n",
    "#         # 打印出被替换的level的值\n",
    "#         print(f\"less_level: {less_level}, more_level: {more_level}\")\n",
    "        \n",
    "#         # 更新唯一值\n",
    "#         unique_levels = torch.unique(Q)\n",
    "#         unique_levels.sort()  # 排序\n",
    "\n",
    "#         # 将当前的量化数据 Q 从[0, b1-1]映射到 [-b2 / 2, b2 / 2 - 1] 区间\n",
    "#         Q_mapped = map_to_target_range(Q, 0, b1 - 1, -half_range(num_levels), half_range(num_levels) - 1)\n",
    "\n",
    "#         # 保存映射后的直方图数据\n",
    "#         hist_data.append(Q_mapped.clone().numpy())\n",
    "\n",
    "#         # 打印出最小的误差，及其对应的level的值\n",
    "#         print(f\"min_level: {level_to_remove}, min_error: {total_errors[level_to_remove]}\\n\")\n",
    "    \n",
    "#     # # 全弄完之后，最后一次映射，将当前的量化数据 Q 从[0, b1-1]映射到 [-b2 / 2, b2 / 2 - 1] 区间\n",
    "#     Q_mapped = map_to_target_range(Q, 0, b1 - 1, -half_range(num_levels), half_range(num_levels) - 1)\n",
    "\n",
    "#     return Q_mapped, hist_data"
   ]
  },
  {
   "cell_type": "code",
   "execution_count": 3,
   "metadata": {},
   "outputs": [
    {
     "data": {
      "text/plain": [
       "Text(0, 0.5, 'Frequency')"
      ]
     },
     "execution_count": 3,
     "metadata": {},
     "output_type": "execute_result"
    },
    {
     "data": {
      "image/png": "[encoded data removed]",
      "text/plain": [
       "<Figure size 1500x500 with 1 Axes>"
      ]
     },
     "metadata": {},
     "output_type": "display_data"
    }
   ],
   "source": [
    "# 主程序\n",
    "data = generate_data()  # 生成数据\n",
    "#data = generate_uniform_data()  # 生成均匀分布数据\n",
    "\n",
    "# 画图\n",
    "plt.figure(figsize=(15, 5))  # 画布总的大小\n",
    "# 先画原始数据分布图\n",
    "plt.subplot(1, 3, 1)\n",
    "plt.hist(data.numpy(), bins=100, color='blue', alpha=0.7)\n",
    "plt.title(\"Original Data Distribution\")\n",
    "plt.xlabel(\"Value\")\n",
    "plt.ylabel(\"Frequency\")"
   ]
  },
  {
   "cell_type": "code",
   "execution_count": 4,
   "metadata": {},
   "outputs": [
    {
     "data": {
      "text/plain": [
       "Text(0, 0.5, 'Frequency')"
      ]
     },
     "execution_count": 4,
     "metadata": {},
     "output_type": "execute_result"
    },
    {
     "data": {
      "image/png": "[encoded data removed]",
      "text/plain": [
       "<Figure size 1500x500 with 1 Axes>"
      ]
     },
     "metadata": {},
     "output_type": "display_data"
    }
   ],
   "source": [
    "# 第一次量化\n",
    "# quantized_data = quantize(data, b1)\n",
    "\n",
    "quantized_data, dequantized_data = interval_based_quantize_dequantize(data, b1) # 使用基于区间的量化函数\n",
    "\n",
    "# 第一次量化后的分布图\n",
    "plt.figure(figsize=(15, 5))  # 画布总的大小\n",
    "plt.subplot(1, 3, 2)\n",
    "plt.hist(dequantized_data.numpy(), bins=100, color='green', alpha=0.7)\n",
    "plt.title(f\"Quantized to {b1} Levels (2^{n1})\")\n",
    "plt.xlabel(\"Value\")\n",
    "plt.ylabel(\"Frequency\")\n",
    "#plt.xlim(-half_range(b1), half_range(b1))\n"
   ]
  },
  {
   "cell_type": "code",
   "execution_count": 5,
   "metadata": {},
   "outputs": [],
   "source": [
    "start_time = time.time()  # 记录开始时间"
   ]
  },
  {
   "cell_type": "code",
   "execution_count": 6,
   "metadata": {},
   "outputs": [
    {
     "name": "stdout",
     "output_type": "stream",
     "text": [
      "Iteration 1:\n",
      "Updated level_mapping: {-7.805543162714848: -7.805543162714848, -6.934094808006398: -6.934094808006398, -6.062646453297949: -6.062646453297949, -5.191198098589499: -5.191198098589499, -4.319749743881051: -4.319749743881051, -3.448301389172601: -3.448301389172601, -2.576853034464152: -2.576853034464152, -0.8339563250472533: -1.269680502401478, 0.037492029661196025: 0.037492029661196025, 0.9089403843696453: 0.9089403843696453, 1.7803887390780955: 1.7803887390780955, 2.651837093786544: 2.651837093786544, 3.5232854484949923: 3.5232854484949923, 4.394733803203442: 4.394733803203442, 5.266182157911892: 5.266182157911892}\n",
      "Iteration 2:\n",
      "Updated level_mapping: {-6.934094808006398: -7.369818985360623, -6.062646453297949: -6.062646453297949, -5.191198098589499: -5.191198098589499, -4.319749743881051: -4.319749743881051, -3.448301389172601: -3.448301389172601, -2.576853034464152: -2.576853034464152, -0.8339563250472533: -1.269680502401478, 0.037492029661196025: 0.037492029661196025, 0.9089403843696453: 0.9089403843696453, 1.7803887390780955: 1.7803887390780955, 2.651837093786544: 2.651837093786544, 3.5232854484949923: 3.5232854484949923, 4.394733803203442: 4.394733803203442, 5.266182157911892: 5.266182157911892}\n",
      "Iteration 3:\n",
      "Updated level_mapping: {-6.934094808006398: -7.369818985360623, -6.062646453297949: -6.062646453297949, -5.191198098589499: -5.191198098589499, -4.319749743881051: -4.319749743881051, -3.448301389172601: -3.448301389172601, -2.576853034464152: -2.576853034464152, -0.8339563250472533: -1.269680502401478, 0.037492029661196025: 0.037492029661196025, 0.9089403843696453: 0.9089403843696453, 1.7803887390780955: 1.7803887390780955, 2.651837093786544: 2.651837093786544, 3.5232854484949923: 3.5232854484949923, 4.394733803203442: 4.830457980557667}\n",
      "Iteration 4:\n",
      "Updated level_mapping: {-6.934094808006398: -7.369818985360623, -6.062646453297949: -6.062646453297949, -5.191198098589499: -5.191198098589499, -4.319749743881051: -4.319749743881051, -3.448301389172601: -3.0125772118183765, -0.8339563250472533: -1.269680502401478, 0.037492029661196025: 0.037492029661196025, 0.9089403843696453: 0.9089403843696453, 1.7803887390780955: 1.7803887390780955, 2.651837093786544: 2.651837093786544, 3.5232854484949923: 3.5232854484949923, 4.394733803203442: 4.830457980557667}\n",
      "Iteration 5:\n",
      "Updated level_mapping: {-6.934094808006398: -7.369818985360623, -6.062646453297949: -6.062646453297949, -5.191198098589499: -5.191198098589499, -4.319749743881051: -4.319749743881051, -3.448301389172601: -3.0125772118183765, 0.037492029661196025: -0.6160942363701409, 0.9089403843696453: 0.9089403843696453, 1.7803887390780955: 1.7803887390780955, 2.651837093786544: 2.651837093786544, 3.5232854484949923: 3.5232854484949923, 4.394733803203442: 4.830457980557667}\n",
      "Iteration 6:\n",
      "Updated level_mapping: {-6.062646453297949: -6.716232719329286, -5.191198098589499: -5.191198098589499, -4.319749743881051: -4.319749743881051, -3.448301389172601: -3.0125772118183765, 0.037492029661196025: -0.6160942363701409, 0.9089403843696453: 0.9089403843696453, 1.7803887390780955: 1.7803887390780955, 2.651837093786544: 2.651837093786544, 3.5232854484949923: 3.5232854484949923, 4.394733803203442: 4.830457980557667}\n",
      "Iteration 7:\n",
      "Updated level_mapping: {-6.062646453297949: -6.716232719329286, -5.191198098589499: -5.191198098589499, -4.319749743881051: -4.319749743881051, -3.448301389172601: -3.0125772118183765, 0.037492029661196025: -0.6160942363701409, 0.9089403843696453: 0.9089403843696453, 1.7803887390780955: 1.7803887390780955, 2.651837093786544: 2.651837093786544, 3.5232854484949923: 4.17687171452633}\n",
      "Iteration 8:\n",
      "Updated level_mapping: {-6.062646453297949: -6.716232719329286, -5.191198098589499: -4.755473921235275, -3.448301389172601: -3.0125772118183765, 0.037492029661196025: -0.6160942363701409, 0.9089403843696453: 0.9089403843696453, 1.7803887390780955: 1.7803887390780955, 2.651837093786544: 2.651837093786544, 3.5232854484949923: 4.17687171452633}\n"
     ]
    }
   ],
   "source": [
    "# 进行动态量化级别缩减\n",
    "#quantized_data_second, hist_data = dynamic_quantize_level_reduce(quantized_data, data, b2)\n",
    "quantized_data_second, hist_data = dynamic_quantize_level_reduce_dequantize(dequantized_data, data, b2)\n",
    "\n",
    "# 进行均匀量化（全是均匀量化版）\n",
    "#quantized_data_second, hist_data = interval_based_quantize_eachprint(quantized_data, b2)\n",
    "\n"
   ]
  },
  {
   "cell_type": "code",
   "execution_count": null,
   "metadata": {},
   "outputs": [],
   "source": []
  },
  {
   "cell_type": "code",
   "execution_count": 7,
   "metadata": {},
   "outputs": [],
   "source": [
    "# 计算动态量化的最终损失（均方误差）\n",
    "final_error_dynamic = ((quantized_data_second - data) ** 2).sum().item()\n",
    "num_samples = data.size(0)\n",
    "mean_squared_error_dynamic = final_error_dynamic / num_samples\n"
   ]
  },
  {
   "cell_type": "code",
   "execution_count": 8,
   "metadata": {},
   "outputs": [
    {
     "data": {
      "image/png": "[encoded data removed]",
      "text/plain": [
       "<Figure size 1500x500 with 1 Axes>"
      ]
     },
     "metadata": {},
     "output_type": "display_data"
    }
   ],
   "source": [
    "# 最终量化后分布图\n",
    "plt.figure(figsize=(15, 5))  # 画布总的大小\n",
    "\n",
    "plt.subplot(1, 3, 3)\n",
    "plt.hist(quantized_data_second.numpy(), bins=100, color='red', alpha=0.7)\n",
    "plt.title(f\"Quantized to {b2} Levels (2^{n2})\")\n",
    "plt.xlabel(\"Value\")\n",
    "plt.ylabel(\"Frequency\")\n",
    "# # X轴的范围是-((b1 - 1) / 2), (b1 - 1) / 2\n",
    "# plt.xlim(-half_range_b2, half_range_b2)\n",
    "\n",
    "plt.tight_layout()\n",
    "plt.show()"
   ]
  },
  {
   "cell_type": "code",
   "execution_count": 9,
   "metadata": {},
   "outputs": [],
   "source": [
    "# # 不对不对这个一步到位了，不用gif\n",
    "\n",
    "# # 动画绘制\n",
    "# fig, ax = plt.subplots(figsize=(8, 6))\n",
    "# ax.set_xlim(-half_range_b2, half_range_b2)\n",
    "# ax.set_ylim(0, 5000)  # 设置适当的Y轴范围\n",
    "\n",
    "# # 动画更新函数\n",
    "# def update(frame):\n",
    "#     ax.clear()\n",
    "#     ax.hist(hist_data[frame], bins=100, color='red', alpha=0.7)\n",
    "#     ax.set_title(f\"Uniform Quantization Step: {frame + 1}\")\n",
    "#     ax.set_xlabel(\"Value\")\n",
    "#     ax.set_ylabel(\"Frequency\")\n",
    "#     ax.set_xlim(-half_range_b2, half_range_b2)\n",
    "#     ax.set_ylim(0, 5000)  # 设置Y轴范围为0到5000\n",
    "\n",
    "# # 创建动画\n",
    "# ani = FuncAnimation(fig, update, frames=len(hist_data), repeat=False)\n",
    "\n",
    "# # 保存为GIF文件\n",
    "# ani.save('uniform_quantization_process.gif', writer='imagemagick', fps=1)\n",
    "\n",
    "# # 显示生成的GIF文件路径\n",
    "# print(\"GIF animation saved as 'uniform_quantization_process.gif'\")"
   ]
  },
  {
   "cell_type": "code",
   "execution_count": 10,
   "metadata": {},
   "outputs": [],
   "source": [
    "# 对比！\n",
    "# ------------------------均匀量化--------------------------\n",
    "# quantized_data_uniform = uniform_quantization(data, b2)\n",
    "quantized_data_uniform, dequantized_data_uniform = interval_based_quantize_dequantize(data, b2) # 均匀量化\n",
    "#quantized_data_uniform_mapped = map_to_target_range(quantized_data_uniform, 0, b1 - 1, -half_range_b2, half_range_b2)\n",
    "\n",
    "# 计算均匀量化的最终损失（均方误差）\n",
    "final_error_uniform_mapped = ((dequantized_data_uniform - data) ** 2).sum().item()\n",
    "mean_squared_error_uniform_mapped = final_error_uniform_mapped / num_samples"
   ]
  },
  {
   "cell_type": "code",
   "execution_count": 11,
   "metadata": {},
   "outputs": [
    {
     "name": "stdout",
     "output_type": "stream",
     "text": [
      "Minimization to 8 levels took 0.4497 seconds.\n",
      "Final Mean Squared Error (本算法): 0.2302\n",
      "Final Mean Squared Error (均匀): 0.2465\n"
     ]
    }
   ],
   "source": [
    "# 打印时间和最终均方误差\n",
    "minimization_time = time.time() - start_time\n",
    "print(f\"Minimization to {b2} levels took {minimization_time:.4f} seconds.\")\n",
    "print(f\"Final Mean Squared Error (本算法): {mean_squared_error_dynamic:.4f}\")\n",
    "print(f\"Final Mean Squared Error (均匀): {mean_squared_error_uniform_mapped:.4f}\")"
   ]
  }
 ],
 "metadata": {
  "kernelspec": {
   "display_name": "pytorch312",
   "language": "python",
   "name": "python3"
  },
  "language_info": {
   "codemirror_mode": {
    "name": "ipython",
    "version": 3
   },
   "file_extension": ".py",
   "mimetype": "text/x-python",
   "name": "python",
   "nbconvert_exporter": "python",
   "pygments_lexer": "ipython3",
   "version": "3.12.7"
  }
 },
 "nbformat": 4,
 "nbformat_minor": 2
}
